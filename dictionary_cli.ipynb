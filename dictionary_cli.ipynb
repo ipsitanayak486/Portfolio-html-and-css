{
  "nbformat": 4,
  "nbformat_minor": 0,
  "metadata": {
    "colab": {
      "provenance": [],
      "authorship_tag": "ABX9TyN1N61RX7fS7uf+TnShCWxc",
      "include_colab_link": true
    },
    "kernelspec": {
      "name": "python3",
      "display_name": "Python 3"
    },
    "language_info": {
      "name": "python"
    }
  },
  "cells": [
    {
      "cell_type": "markdown",
      "metadata": {
        "id": "view-in-github",
        "colab_type": "text"
      },
      "source": [
        "<a href=\"https://colab.research.google.com/github/ipsitanayak486/Portfolio-html-and-css/blob/main/dictionary_cli.ipynb\" target=\"_parent\"><img src=\"https://colab.research.google.com/assets/colab-badge.svg\" alt=\"Open In Colab\"/></a>"
      ]
    },
    {
      "cell_type": "code",
      "execution_count": null,
      "metadata": {
        "id": "yRwkEyuJB0jm",
        "outputId": "1e6a6c04-32d2-4083-de71-30a1cf3b7c7f",
        "colab": {
          "base_uri": "https://localhost:8080/",
          "height": 106
        }
      },
      "outputs": [
        {
          "output_type": "stream",
          "name": "stdout",
          "text": [
            "Usage: python dictionary_cli.py <word>\n"
          ]
        },
        {
          "output_type": "error",
          "ename": "SystemExit",
          "evalue": "1",
          "traceback": [
            "An exception has occurred, use %tb to see the full traceback.\n",
            "\u001b[0;31mSystemExit\u001b[0m\u001b[0;31m:\u001b[0m 1\n"
          ]
        }
      ],
      "source": [
        "import requests\n",
        "\n",
        "import sys\n",
        "def fetch_details(word):\n",
        "     url = f\"https://api.dictionaryapi.dev/api/v2/entries/en/{word}\"\n",
        "     response=requests.get(url)\n",
        "     if response.status_code==200:\n",
        "\n",
        "      data=response.json\n",
        "      if isinstance(data,list):\n",
        "\n",
        "        for entry in data:\n",
        "          print(f\"Definition of '{word}':\")\n",
        "          for meaning in entry.get('meanings',[]):\n",
        "            print(f\"- {meaning['definition']}\")\n",
        "      else:\n",
        "        print(\"No definition found for the word\")\n",
        "     else:\n",
        "      print(\"Failed to fetch definition.Please check your internet connection\")\n",
        "def main():\n",
        "  if len(sys.argv)!=2:\n",
        "    print(\"Usage: python dictionary_cli.py <word>\")\n",
        "    sys.exit(1)\n",
        "  word=sys.argv[1]\n",
        "  fetch_details(word)\n",
        "if __name__==\"__main__\":\n",
        "  main()"
      ]
    }
  ]
}